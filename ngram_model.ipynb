{
 "cells": [
  {
   "cell_type": "code",
   "execution_count": 8,
   "metadata": {},
   "outputs": [],
   "source": [
    "import json\n",
    "import csv\n",
    "import re\n",
    "from collections import defaultdict, Counter\n",
    "import nltk\n",
    "from nltk.util import ngrams\n",
    "\n",
    "import tensorflow as tf\n",
    "from keras.preprocessing.text import Tokenizer\n",
    "from keras.preprocessing.sequence import pad_sequences\n",
    "from keras.models import Sequential\n",
    "from keras.layers import Embedding, LSTM, Dense"
   ]
  },
  {
   "cell_type": "code",
   "execution_count": 10,
   "metadata": {},
   "outputs": [],
   "source": [
    "# Cleaning Data Function\n",
    "def clean_text(text):\n",
    "    cleaned = re.sub(r'[^\\x00-\\x7F]+', '', text)\n",
    "    return cleaned.strip().lower()"
   ]
  },
  {
   "cell_type": "code",
   "execution_count": 11,
   "metadata": {},
   "outputs": [],
   "source": [
    "# Model Bigram Function\n",
    "def build_ngram_model(data, n=2):\n",
    "    ngram_model = defaultdict(Counter)\n",
    "    for item in data:\n",
    "        tokens = item.split()\n",
    "        for gram in ngrams(tokens, n):\n",
    "            prefix = \" \".join(gram[:-1])\n",
    "            suffix = gram[-1]\n",
    "            ngram_model[prefix][suffix] += 1\n",
    "    return ngram_model"
   ]
  },
  {
   "cell_type": "code",
   "execution_count": 12,
   "metadata": {},
   "outputs": [],
   "source": [
    "book_metadata = {}"
   ]
  },
  {
   "cell_type": "code",
   "execution_count": 13,
   "metadata": {},
   "outputs": [],
   "source": [
    "books = []\n",
    "with open('Books.csv', mode='r', encoding='utf-8') as file:\n",
    "    csv_reader = csv.DictReader(file)\n",
    "    for row in csv_reader:\n",
    "        # Ambil judul buku dari kolom 'Book-Title' dan lakukan preprocessing\n",
    "        cleaned_title = clean_text(row['Book-Title'])\n",
    "        if cleaned_title:  # Pastikan judul tidak kosong\n",
    "            books.append(cleaned_title)\n",
    "            # Menyimpan metadata buku dengan judul yang sudah dibersihkan sebagai key\n",
    "            book_metadata[cleaned_title] = {\n",
    "                'title': row['Book-Title'].strip(),\n",
    "                'author': row['Book-Author'].strip(),\n",
    "                'year': row['Year-Of-Publication'].strip(),\n",
    "                'publisher': row['Publisher'].strip(),\n",
    "                'image_url': row['Image-URL-M'].strip()\n",
    "            }"
   ]
  },
  {
   "cell_type": "code",
   "execution_count": 14,
   "metadata": {},
   "outputs": [],
   "source": [
    "# Build Model Bigram\n",
    "ngram_model = build_ngram_model(books, n=2)"
   ]
  },
  {
   "cell_type": "code",
   "execution_count": 6,
   "metadata": {},
   "outputs": [],
   "source": [
    "# Save model\n",
    "with open('ngram_model.json', 'w') as f:\n",
    "    json.dump(ngram_model, f)\n",
    "\n",
    "with open('book_metadata.json', 'w') as f:\n",
    "    json.dump(book_metadata, f)"
   ]
  }
 ],
 "metadata": {
  "kernelspec": {
   "display_name": "Python 3",
   "language": "python",
   "name": "python3"
  },
  "language_info": {
   "codemirror_mode": {
    "name": "ipython",
    "version": 3
   },
   "file_extension": ".py",
   "mimetype": "text/x-python",
   "name": "python",
   "nbconvert_exporter": "python",
   "pygments_lexer": "ipython3",
   "version": "3.11.0"
  }
 },
 "nbformat": 4,
 "nbformat_minor": 2
}
